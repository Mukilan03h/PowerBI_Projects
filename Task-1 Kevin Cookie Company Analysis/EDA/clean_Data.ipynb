{
 "cells": [
  {
   "cell_type": "code",
   "execution_count": null,
   "metadata": {},
   "outputs": [],
   "source": [
    "#Loading Data and displaying rows"
   ]
  },
  {
   "cell_type": "code",
   "execution_count": 1,
   "metadata": {},
   "outputs": [
    {
     "name": "stdout",
     "output_type": "stream",
     "text": [
      "   Country          Product   Units Sold   Revenue per cookie    \\\n",
      "0   Canada   Chocolate Chip        292.0                    5.0   \n",
      "1   Mexico   Chocolate Chip        974.0                    5.0   \n",
      "2   Canada   Chocolate Chip       2518.0                    5.0   \n",
      "3  Germany   Chocolate Chip       1006.0                    5.0   \n",
      "4  Germany   Chocolate Chip        367.0                    5.0   \n",
      "\n",
      "    Cost per cookie    Revenue    Cost    Profit       Date  Month Number  \\\n",
      "0                2.0     1460.0   584.0     876.0  2/1/2019             2   \n",
      "1                2.0     4870.0  1948.0    2922.0  2/1/2019             2   \n",
      "2                2.0    12590.0  5036.0    7554.0  6/1/2019             6   \n",
      "3                2.0     5030.0  2012.0    3018.0  6/1/2019             6   \n",
      "4                2.0     1835.0   734.0    1101.0  7/1/2019             7   \n",
      "\n",
      "   Month Name   Year  \n",
      "0    February   2019  \n",
      "1    February   2019  \n",
      "2        June   2019  \n",
      "3        June   2019  \n",
      "4        July   2019  \n"
     ]
    }
   ],
   "source": [
    "import pandas as pd\n",
    "\n",
    "data = pd.read_csv('D:\\\\CubeAI Internship\\\\Project-1\\\\Kevin Cookie Company Financials1.csv')\n",
    "\n",
    "print(data.head())"
   ]
  },
  {
   "cell_type": "code",
   "execution_count": 2,
   "metadata": {},
   "outputs": [
    {
     "name": "stdout",
     "output_type": "stream",
     "text": [
      "Country                  0\n",
      " Product                 0\n",
      "Units Sold               0\n",
      " Revenue per cookie      0\n",
      " Cost per cookie         0\n",
      " Revenue                 0\n",
      " Cost                    0\n",
      " Profit                  0\n",
      "Date                     0\n",
      "Month Number             0\n",
      " Month Name              0\n",
      "Year                     0\n",
      "dtype: int64\n",
      "Country                          object\n",
      " Product                         object\n",
      "Units Sold                      float64\n",
      " Revenue per cookie             float64\n",
      " Cost per cookie                float64\n",
      " Revenue                        float64\n",
      " Cost                           float64\n",
      " Profit                         float64\n",
      "Date                     datetime64[ns]\n",
      "Month Number                      int64\n",
      " Month Name                      object\n",
      "Year                              int64\n",
      "dtype: object\n"
     ]
    }
   ],
   "source": [
    "\n",
    "print(data.isnull().sum())\n",
    "\n",
    "data['Date'] = pd.to_datetime(data['Date'])\n",
    "\n",
    "print(data.dtypes)\n"
   ]
  },
  {
   "cell_type": "code",
   "execution_count": 3,
   "metadata": {},
   "outputs": [
    {
     "name": "stdout",
     "output_type": "stream",
     "text": [
      "        Units Sold   Revenue per cookie     Cost per cookie       Revenue   \\\n",
      "count   700.000000             700.000000         700.000000    700.000000   \n",
      "mean   1608.294286               4.180000           1.721286   6700.357857   \n",
      "min     200.000000               1.000000           0.200000    200.000000   \n",
      "25%     905.000000               3.000000           1.250000   2854.000000   \n",
      "50%    1542.500000               5.000000           2.000000   5871.500000   \n",
      "75%    2229.125000               5.000000           2.200000   9580.000000   \n",
      "max    4492.500000               6.000000           2.750000  23985.000000   \n",
      "std     867.427859               1.538872           0.753227   4623.793761   \n",
      "\n",
      "              Cost        Profit                  Date  Month Number  \\\n",
      "count    700.000000    700.000000                  700    700.000000   \n",
      "mean    2752.752543   3947.605471  2019-04-28 21:36:00      7.900000   \n",
      "min       40.000000    160.000000  2018-09-01 00:00:00      1.000000   \n",
      "25%     1112.812500   1848.487500  2018-12-24 06:00:00      5.750000   \n",
      "50%     2423.600000   3424.500000  2019-05-16 12:00:00      9.000000   \n",
      "75%     3925.700000   5566.050000  2019-09-08 12:00:00     10.250000   \n",
      "max    10993.130000  13477.500000  2019-12-01 00:00:00     12.000000   \n",
      "std     2036.959955   2615.761582                  NaN      3.377321   \n",
      "\n",
      "              Year  \n",
      "count   700.000000  \n",
      "mean   2018.750000  \n",
      "min    2018.000000  \n",
      "25%    2018.750000  \n",
      "50%    2019.000000  \n",
      "75%    2019.000000  \n",
      "max    2019.000000  \n",
      "std       0.433322  \n",
      "       Country          Product   Month Name \n",
      "count      700               700          700\n",
      "unique       5                 6           12\n",
      "top     Canada   Chocolate Chip      October \n",
      "freq       140               202          140\n"
     ]
    }
   ],
   "source": [
    "\n",
    "print(data.describe())\n",
    "\n",
    "print(data.describe(include='object'))\n"
   ]
  }
 ],
 "metadata": {
  "kernelspec": {
   "display_name": "Python 3",
   "language": "python",
   "name": "python3"
  },
  "language_info": {
   "codemirror_mode": {
    "name": "ipython",
    "version": 3
   },
   "file_extension": ".py",
   "mimetype": "text/x-python",
   "name": "python",
   "nbconvert_exporter": "python",
   "pygments_lexer": "ipython3",
   "version": "3.12.1"
  }
 },
 "nbformat": 4,
 "nbformat_minor": 2
}
