{
 "cells": [
  {
   "cell_type": "code",
   "execution_count": null,
   "metadata": {},
   "outputs": [],
   "source": [
    "import pandas as pd\n",
    "\n",
    "# Read the data from Excel file\n",
    "df = pd.read_csv('D:\\\\CubeAI Internship\\\\Project-3\\\\zomato.csv')\n",
    "\n",
    "# Create Cuisine Table\n",
    "cuisine_df = pd.DataFrame({'CuisineName': df['Cuisines'].unique()})\n",
    "cuisine_df['CuisineID'] = range(1, len(cuisine_df) + 1)\n",
    "\n",
    "# Create Restaurant Table\n",
    "restaurant_df = df.drop_duplicates(subset=['Restaurant Name']).reset_index(drop=True)\n",
    "restaurant_df = restaurant_df[['Restaurant Name', 'Country Code', 'City', 'Address', 'Locality', 'Locality Verbose', \n",
    "                               'Longitude', 'Latitude', 'Average Cost for two', 'Currency', 'Has Table booking', \n",
    "                               'Has Online delivery', 'Is delivering now', 'Switch to order menu', 'Price range', \n",
    "                               'Aggregate rating', 'Rating color', 'Rating text', 'Votes']]\n",
    "restaurant_df.columns = ['RestaurantName', 'CountryCode', 'City', 'Address', 'Locality', 'LocalityVerbose', \n",
    "                         'Longitude', 'Latitude', 'AverageCostForTwo', 'Currency', 'HasTableBooking', \n",
    "                         'HasOnlineDelivery', 'IsDeliveringNow', 'SwitchToOrderMenu', 'PriceRange', \n",
    "                         'AggregateRating', 'RatingColor', 'RatingText', 'Votes']\n",
    "restaurant_df['RestaurantID'] = range(1, len(restaurant_df) + 1)\n",
    "\n",
    "# Create RestaurantCuisine Table\n",
    "restaurant_cuisine_df = df.merge(cuisine_df, how='inner', left_on='Cuisines', right_on='CuisineName')\n",
    "restaurant_cuisine_df = restaurant_cuisine_df[['Restaurant Name', 'CuisineID']]\n",
    "restaurant_cuisine_df = restaurant_cuisine_df.merge(restaurant_df, how='inner', left_on='Restaurant Name', right_on='RestaurantName')\n",
    "restaurant_cuisine_df = restaurant_cuisine_df[['RestaurantID', 'CuisineID']]\n",
    "\n",
    "#Saving Dataframe\n",
    "with pd.ExcelWriter('output.xlsx') as writer:\n",
    "    cuisine_df.to_excel(writer, sheet_name='Cuisine', index=False)\n",
    "    restaurant_df.to_excel(writer, sheet_name='Restaurant', index=False)\n",
    "    restaurant_cuisine_df.to_excel(writer, sheet_name='RestaurantCuisine', index=False)\n"
   ]
  }
 ],
 "metadata": {
  "language_info": {
   "name": "python"
  }
 },
 "nbformat": 4,
 "nbformat_minor": 2
}
