{
 "cells": [
  {
   "cell_type": "code",
   "execution_count": 94,
   "id": "dcb5dea0",
   "metadata": {
    "_cell_guid": "b1076dfc-b9ad-4769-8c92-a6c4dae69d19",
    "_uuid": "8f2839f25d086af736a60e9eeb907d3b93b6e0e5",
    "execution": {
     "iopub.execute_input": "2023-07-11T02:48:38.334014Z",
     "iopub.status.busy": "2023-07-11T02:48:38.332926Z",
     "iopub.status.idle": "2023-07-11T02:48:39.937806Z",
     "shell.execute_reply": "2023-07-11T02:48:39.936749Z"
    },
    "papermill": {
     "duration": 1.624004,
     "end_time": "2023-07-11T02:48:39.940676",
     "exception": false,
     "start_time": "2023-07-11T02:48:38.316672",
     "status": "completed"
    },
    "tags": []
   },
   "outputs": [],
   "source": [
    "import numpy as np\n",
    "import pandas as pd\n",
    "import warnings\n",
    "import seaborn as sns\n",
    "import matplotlib.pyplot as plt"
   ]
  },
  {
   "cell_type": "code",
   "execution_count": 95,
   "id": "8e21946a",
   "metadata": {},
   "outputs": [],
   "source": [
    "# Suppress warnings\n",
    "warnings.filterwarnings(\"ignore\")"
   ]
  },
  {
   "cell_type": "markdown",
   "id": "08e86506",
   "metadata": {},
   "source": [
    "Loading Dataset 🔃"
   ]
  },
  {
   "cell_type": "code",
   "execution_count": 96,
   "id": "4ecc44f0",
   "metadata": {
    "execution": {
     "iopub.execute_input": "2023-07-11T02:48:40.041489Z",
     "iopub.status.busy": "2023-07-11T02:48:40.041100Z",
     "iopub.status.idle": "2023-07-11T02:48:40.258226Z",
     "shell.execute_reply": "2023-07-11T02:48:40.257006Z"
    },
    "papermill": {
     "duration": 0.233697,
     "end_time": "2023-07-11T02:48:40.260735",
     "exception": false,
     "start_time": "2023-07-11T02:48:40.027038",
     "status": "completed"
    },
    "tags": []
   },
   "outputs": [
    {
     "data": {
      "text/html": [
       "<div>\n",
       "<style scoped>\n",
       "    .dataframe tbody tr th:only-of-type {\n",
       "        vertical-align: middle;\n",
       "    }\n",
       "\n",
       "    .dataframe tbody tr th {\n",
       "        vertical-align: top;\n",
       "    }\n",
       "\n",
       "    .dataframe thead th {\n",
       "        text-align: right;\n",
       "    }\n",
       "</style>\n",
       "<table border=\"1\" class=\"dataframe\">\n",
       "  <thead>\n",
       "    <tr style=\"text-align: right;\">\n",
       "      <th></th>\n",
       "      <th>show_id</th>\n",
       "      <th>type</th>\n",
       "      <th>title</th>\n",
       "      <th>director</th>\n",
       "      <th>cast</th>\n",
       "      <th>country</th>\n",
       "      <th>date_added</th>\n",
       "      <th>release_year</th>\n",
       "      <th>rating</th>\n",
       "      <th>duration</th>\n",
       "      <th>listed_in</th>\n",
       "      <th>description</th>\n",
       "    </tr>\n",
       "  </thead>\n",
       "  <tbody>\n",
       "    <tr>\n",
       "      <th>0</th>\n",
       "      <td>s1</td>\n",
       "      <td>Movie</td>\n",
       "      <td>The Grand Seduction</td>\n",
       "      <td>Don McKellar</td>\n",
       "      <td>Brendan Gleeson, Taylor Kitsch, Gordon Pinsent</td>\n",
       "      <td>Canada</td>\n",
       "      <td>2021-03-30</td>\n",
       "      <td>2014</td>\n",
       "      <td>NaN</td>\n",
       "      <td>113 min</td>\n",
       "      <td>Comedy, Drama</td>\n",
       "      <td>A small fishing village must procure a local d...</td>\n",
       "    </tr>\n",
       "    <tr>\n",
       "      <th>1</th>\n",
       "      <td>s2</td>\n",
       "      <td>Movie</td>\n",
       "      <td>Take Care Good Night</td>\n",
       "      <td>Girish Joshi</td>\n",
       "      <td>Mahesh Manjrekar, Abhay Mahajan, Sachin Khedekar</td>\n",
       "      <td>India</td>\n",
       "      <td>2021-03-30</td>\n",
       "      <td>2018</td>\n",
       "      <td>13+</td>\n",
       "      <td>110 min</td>\n",
       "      <td>Drama, International</td>\n",
       "      <td>A Metro Family decides to fight a Cyber Crimin...</td>\n",
       "    </tr>\n",
       "    <tr>\n",
       "      <th>2</th>\n",
       "      <td>s3</td>\n",
       "      <td>Movie</td>\n",
       "      <td>Secrets of Deception</td>\n",
       "      <td>Josh Webber</td>\n",
       "      <td>Tom Sizemore, Lorenzo Lamas, Robert LaSardo, R...</td>\n",
       "      <td>United States</td>\n",
       "      <td>2021-03-30</td>\n",
       "      <td>2017</td>\n",
       "      <td>NaN</td>\n",
       "      <td>74 min</td>\n",
       "      <td>Action, Drama, Suspense</td>\n",
       "      <td>After a man discovers his wife is cheating on ...</td>\n",
       "    </tr>\n",
       "    <tr>\n",
       "      <th>3</th>\n",
       "      <td>s4</td>\n",
       "      <td>Movie</td>\n",
       "      <td>Pink: Staying True</td>\n",
       "      <td>Sonia Anderson</td>\n",
       "      <td>Interviews with: Pink, Adele, BeyoncÃ©, Britne...</td>\n",
       "      <td>United States</td>\n",
       "      <td>2021-03-30</td>\n",
       "      <td>2014</td>\n",
       "      <td>NaN</td>\n",
       "      <td>69 min</td>\n",
       "      <td>Documentary</td>\n",
       "      <td>Pink breaks the mold once again, bringing her ...</td>\n",
       "    </tr>\n",
       "    <tr>\n",
       "      <th>4</th>\n",
       "      <td>s5</td>\n",
       "      <td>Movie</td>\n",
       "      <td>Monster Maker</td>\n",
       "      <td>Giles Foster</td>\n",
       "      <td>Harry Dean Stanton, Kieran O'Brien, George Cos...</td>\n",
       "      <td>United Kingdom</td>\n",
       "      <td>2021-03-30</td>\n",
       "      <td>1989</td>\n",
       "      <td>NaN</td>\n",
       "      <td>45 min</td>\n",
       "      <td>Drama, Fantasy</td>\n",
       "      <td>Teenage Matt Banting wants to work with a famo...</td>\n",
       "    </tr>\n",
       "    <tr>\n",
       "      <th>...</th>\n",
       "      <td>...</td>\n",
       "      <td>...</td>\n",
       "      <td>...</td>\n",
       "      <td>...</td>\n",
       "      <td>...</td>\n",
       "      <td>...</td>\n",
       "      <td>...</td>\n",
       "      <td>...</td>\n",
       "      <td>...</td>\n",
       "      <td>...</td>\n",
       "      <td>...</td>\n",
       "      <td>...</td>\n",
       "    </tr>\n",
       "    <tr>\n",
       "      <th>9663</th>\n",
       "      <td>s9664</td>\n",
       "      <td>Movie</td>\n",
       "      <td>Pride Of The Bowery</td>\n",
       "      <td>Joseph H. Lewis</td>\n",
       "      <td>Leo Gorcey, Bobby Jordan</td>\n",
       "      <td>NaN</td>\n",
       "      <td>NaT</td>\n",
       "      <td>1940</td>\n",
       "      <td>7+</td>\n",
       "      <td>60 min</td>\n",
       "      <td>Comedy</td>\n",
       "      <td>New York City street principles get an East Si...</td>\n",
       "    </tr>\n",
       "    <tr>\n",
       "      <th>9664</th>\n",
       "      <td>s9665</td>\n",
       "      <td>TV Show</td>\n",
       "      <td>Planet Patrol</td>\n",
       "      <td>NaN</td>\n",
       "      <td>DICK VOSBURGH, RONNIE STEVENS, LIBBY MORRIS, M...</td>\n",
       "      <td>NaN</td>\n",
       "      <td>NaT</td>\n",
       "      <td>2018</td>\n",
       "      <td>13+</td>\n",
       "      <td>4 Seasons</td>\n",
       "      <td>TV Shows</td>\n",
       "      <td>This is Earth, 2100AD - and these are the adve...</td>\n",
       "    </tr>\n",
       "    <tr>\n",
       "      <th>9665</th>\n",
       "      <td>s9666</td>\n",
       "      <td>Movie</td>\n",
       "      <td>Outpost</td>\n",
       "      <td>Steve Barker</td>\n",
       "      <td>Ray Stevenson, Julian Wadham, Richard Brake, M...</td>\n",
       "      <td>NaN</td>\n",
       "      <td>NaT</td>\n",
       "      <td>2008</td>\n",
       "      <td>R</td>\n",
       "      <td>90 min</td>\n",
       "      <td>Action</td>\n",
       "      <td>In war-torn Eastern Europe, a world-weary grou...</td>\n",
       "    </tr>\n",
       "    <tr>\n",
       "      <th>9666</th>\n",
       "      <td>s9667</td>\n",
       "      <td>TV Show</td>\n",
       "      <td>Maradona: Blessed Dream</td>\n",
       "      <td>NaN</td>\n",
       "      <td>Esteban Recagno, Ezequiel Stremiz, Luciano Vit...</td>\n",
       "      <td>NaN</td>\n",
       "      <td>NaT</td>\n",
       "      <td>2021</td>\n",
       "      <td>TV-MA</td>\n",
       "      <td>1 Season</td>\n",
       "      <td>Drama, Sports</td>\n",
       "      <td>The series tells the story of Diego Maradona, ...</td>\n",
       "    </tr>\n",
       "    <tr>\n",
       "      <th>9667</th>\n",
       "      <td>s9668</td>\n",
       "      <td>Movie</td>\n",
       "      <td>Harry Brown</td>\n",
       "      <td>Daniel Barber</td>\n",
       "      <td>Michael Caine, Emily Mortimer, Joseph Gilgun, ...</td>\n",
       "      <td>NaN</td>\n",
       "      <td>NaT</td>\n",
       "      <td>2010</td>\n",
       "      <td>R</td>\n",
       "      <td>103 min</td>\n",
       "      <td>Action, Drama, Suspense</td>\n",
       "      <td>Harry Brown, starring two-time Academy Award w...</td>\n",
       "    </tr>\n",
       "  </tbody>\n",
       "</table>\n",
       "<p>9668 rows × 12 columns</p>\n",
       "</div>"
      ],
      "text/plain": [
       "     show_id     type                    title         director  \\\n",
       "0         s1    Movie      The Grand Seduction     Don McKellar   \n",
       "1         s2    Movie     Take Care Good Night     Girish Joshi   \n",
       "2         s3    Movie     Secrets of Deception      Josh Webber   \n",
       "3         s4    Movie       Pink: Staying True   Sonia Anderson   \n",
       "4         s5    Movie            Monster Maker     Giles Foster   \n",
       "...      ...      ...                      ...              ...   \n",
       "9663   s9664    Movie      Pride Of The Bowery  Joseph H. Lewis   \n",
       "9664   s9665  TV Show            Planet Patrol              NaN   \n",
       "9665   s9666    Movie                  Outpost     Steve Barker   \n",
       "9666   s9667  TV Show  Maradona: Blessed Dream              NaN   \n",
       "9667   s9668    Movie              Harry Brown    Daniel Barber   \n",
       "\n",
       "                                                   cast         country  \\\n",
       "0        Brendan Gleeson, Taylor Kitsch, Gordon Pinsent          Canada   \n",
       "1      Mahesh Manjrekar, Abhay Mahajan, Sachin Khedekar           India   \n",
       "2     Tom Sizemore, Lorenzo Lamas, Robert LaSardo, R...   United States   \n",
       "3     Interviews with: Pink, Adele, BeyoncÃ©, Britne...   United States   \n",
       "4     Harry Dean Stanton, Kieran O'Brien, George Cos...  United Kingdom   \n",
       "...                                                 ...             ...   \n",
       "9663                           Leo Gorcey, Bobby Jordan             NaN   \n",
       "9664  DICK VOSBURGH, RONNIE STEVENS, LIBBY MORRIS, M...             NaN   \n",
       "9665  Ray Stevenson, Julian Wadham, Richard Brake, M...             NaN   \n",
       "9666  Esteban Recagno, Ezequiel Stremiz, Luciano Vit...             NaN   \n",
       "9667  Michael Caine, Emily Mortimer, Joseph Gilgun, ...             NaN   \n",
       "\n",
       "     date_added  release_year rating   duration                listed_in  \\\n",
       "0    2021-03-30          2014    NaN    113 min            Comedy, Drama   \n",
       "1    2021-03-30          2018    13+    110 min     Drama, International   \n",
       "2    2021-03-30          2017    NaN     74 min  Action, Drama, Suspense   \n",
       "3    2021-03-30          2014    NaN     69 min              Documentary   \n",
       "4    2021-03-30          1989    NaN     45 min           Drama, Fantasy   \n",
       "...         ...           ...    ...        ...                      ...   \n",
       "9663        NaT          1940     7+     60 min                   Comedy   \n",
       "9664        NaT          2018    13+  4 Seasons                 TV Shows   \n",
       "9665        NaT          2008      R     90 min                   Action   \n",
       "9666        NaT          2021  TV-MA   1 Season            Drama, Sports   \n",
       "9667        NaT          2010      R    103 min  Action, Drama, Suspense   \n",
       "\n",
       "                                            description  \n",
       "0     A small fishing village must procure a local d...  \n",
       "1     A Metro Family decides to fight a Cyber Crimin...  \n",
       "2     After a man discovers his wife is cheating on ...  \n",
       "3     Pink breaks the mold once again, bringing her ...  \n",
       "4     Teenage Matt Banting wants to work with a famo...  \n",
       "...                                                 ...  \n",
       "9663  New York City street principles get an East Si...  \n",
       "9664  This is Earth, 2100AD - and these are the adve...  \n",
       "9665  In war-torn Eastern Europe, a world-weary grou...  \n",
       "9666  The series tells the story of Diego Maradona, ...  \n",
       "9667  Harry Brown, starring two-time Academy Award w...  \n",
       "\n",
       "[9668 rows x 12 columns]"
      ]
     },
     "execution_count": 96,
     "metadata": {},
     "output_type": "execute_result"
    }
   ],
   "source": [
    "df = pd.read_excel('D:\\\\CubeAI Internship\\\\Task-4 Amazon Data EDA\\\\Amazon Prime video.xlsx')\n",
    "df"
   ]
  },
  {
   "cell_type": "markdown",
   "id": "62aaa671",
   "metadata": {},
   "source": [
    "Renaming Listed in to categories"
   ]
  },
  {
   "cell_type": "code",
   "execution_count": 97,
   "id": "2663765c",
   "metadata": {
    "execution": {
     "iopub.execute_input": "2023-07-11T02:48:40.288928Z",
     "iopub.status.busy": "2023-07-11T02:48:40.287942Z",
     "iopub.status.idle": "2023-07-11T02:48:40.313565Z",
     "shell.execute_reply": "2023-07-11T02:48:40.312498Z"
    },
    "papermill": {
     "duration": 0.042183,
     "end_time": "2023-07-11T02:48:40.316020",
     "exception": false,
     "start_time": "2023-07-11T02:48:40.273837",
     "status": "completed"
    },
    "tags": []
   },
   "outputs": [
    {
     "data": {
      "text/html": [
       "<div>\n",
       "<style scoped>\n",
       "    .dataframe tbody tr th:only-of-type {\n",
       "        vertical-align: middle;\n",
       "    }\n",
       "\n",
       "    .dataframe tbody tr th {\n",
       "        vertical-align: top;\n",
       "    }\n",
       "\n",
       "    .dataframe thead th {\n",
       "        text-align: right;\n",
       "    }\n",
       "</style>\n",
       "<table border=\"1\" class=\"dataframe\">\n",
       "  <thead>\n",
       "    <tr style=\"text-align: right;\">\n",
       "      <th></th>\n",
       "      <th>show_id</th>\n",
       "      <th>type</th>\n",
       "      <th>title</th>\n",
       "      <th>director</th>\n",
       "      <th>cast</th>\n",
       "      <th>country</th>\n",
       "      <th>date_added</th>\n",
       "      <th>release_year</th>\n",
       "      <th>rating</th>\n",
       "      <th>duration</th>\n",
       "      <th>categories</th>\n",
       "      <th>description</th>\n",
       "    </tr>\n",
       "  </thead>\n",
       "  <tbody>\n",
       "    <tr>\n",
       "      <th>0</th>\n",
       "      <td>s1</td>\n",
       "      <td>Movie</td>\n",
       "      <td>The Grand Seduction</td>\n",
       "      <td>Don McKellar</td>\n",
       "      <td>Brendan Gleeson, Taylor Kitsch, Gordon Pinsent</td>\n",
       "      <td>Canada</td>\n",
       "      <td>2021-03-30</td>\n",
       "      <td>2014</td>\n",
       "      <td>NaN</td>\n",
       "      <td>113 min</td>\n",
       "      <td>Comedy, Drama</td>\n",
       "      <td>A small fishing village must procure a local d...</td>\n",
       "    </tr>\n",
       "    <tr>\n",
       "      <th>1</th>\n",
       "      <td>s2</td>\n",
       "      <td>Movie</td>\n",
       "      <td>Take Care Good Night</td>\n",
       "      <td>Girish Joshi</td>\n",
       "      <td>Mahesh Manjrekar, Abhay Mahajan, Sachin Khedekar</td>\n",
       "      <td>India</td>\n",
       "      <td>2021-03-30</td>\n",
       "      <td>2018</td>\n",
       "      <td>13+</td>\n",
       "      <td>110 min</td>\n",
       "      <td>Drama, International</td>\n",
       "      <td>A Metro Family decides to fight a Cyber Crimin...</td>\n",
       "    </tr>\n",
       "    <tr>\n",
       "      <th>2</th>\n",
       "      <td>s3</td>\n",
       "      <td>Movie</td>\n",
       "      <td>Secrets of Deception</td>\n",
       "      <td>Josh Webber</td>\n",
       "      <td>Tom Sizemore, Lorenzo Lamas, Robert LaSardo, R...</td>\n",
       "      <td>United States</td>\n",
       "      <td>2021-03-30</td>\n",
       "      <td>2017</td>\n",
       "      <td>NaN</td>\n",
       "      <td>74 min</td>\n",
       "      <td>Action, Drama, Suspense</td>\n",
       "      <td>After a man discovers his wife is cheating on ...</td>\n",
       "    </tr>\n",
       "    <tr>\n",
       "      <th>3</th>\n",
       "      <td>s4</td>\n",
       "      <td>Movie</td>\n",
       "      <td>Pink: Staying True</td>\n",
       "      <td>Sonia Anderson</td>\n",
       "      <td>Interviews with: Pink, Adele, BeyoncÃ©, Britne...</td>\n",
       "      <td>United States</td>\n",
       "      <td>2021-03-30</td>\n",
       "      <td>2014</td>\n",
       "      <td>NaN</td>\n",
       "      <td>69 min</td>\n",
       "      <td>Documentary</td>\n",
       "      <td>Pink breaks the mold once again, bringing her ...</td>\n",
       "    </tr>\n",
       "    <tr>\n",
       "      <th>4</th>\n",
       "      <td>s5</td>\n",
       "      <td>Movie</td>\n",
       "      <td>Monster Maker</td>\n",
       "      <td>Giles Foster</td>\n",
       "      <td>Harry Dean Stanton, Kieran O'Brien, George Cos...</td>\n",
       "      <td>United Kingdom</td>\n",
       "      <td>2021-03-30</td>\n",
       "      <td>1989</td>\n",
       "      <td>NaN</td>\n",
       "      <td>45 min</td>\n",
       "      <td>Drama, Fantasy</td>\n",
       "      <td>Teenage Matt Banting wants to work with a famo...</td>\n",
       "    </tr>\n",
       "    <tr>\n",
       "      <th>...</th>\n",
       "      <td>...</td>\n",
       "      <td>...</td>\n",
       "      <td>...</td>\n",
       "      <td>...</td>\n",
       "      <td>...</td>\n",
       "      <td>...</td>\n",
       "      <td>...</td>\n",
       "      <td>...</td>\n",
       "      <td>...</td>\n",
       "      <td>...</td>\n",
       "      <td>...</td>\n",
       "      <td>...</td>\n",
       "    </tr>\n",
       "    <tr>\n",
       "      <th>9663</th>\n",
       "      <td>s9664</td>\n",
       "      <td>Movie</td>\n",
       "      <td>Pride Of The Bowery</td>\n",
       "      <td>Joseph H. Lewis</td>\n",
       "      <td>Leo Gorcey, Bobby Jordan</td>\n",
       "      <td>NaN</td>\n",
       "      <td>NaT</td>\n",
       "      <td>1940</td>\n",
       "      <td>7+</td>\n",
       "      <td>60 min</td>\n",
       "      <td>Comedy</td>\n",
       "      <td>New York City street principles get an East Si...</td>\n",
       "    </tr>\n",
       "    <tr>\n",
       "      <th>9664</th>\n",
       "      <td>s9665</td>\n",
       "      <td>TV Show</td>\n",
       "      <td>Planet Patrol</td>\n",
       "      <td>NaN</td>\n",
       "      <td>DICK VOSBURGH, RONNIE STEVENS, LIBBY MORRIS, M...</td>\n",
       "      <td>NaN</td>\n",
       "      <td>NaT</td>\n",
       "      <td>2018</td>\n",
       "      <td>13+</td>\n",
       "      <td>4 Seasons</td>\n",
       "      <td>TV Shows</td>\n",
       "      <td>This is Earth, 2100AD - and these are the adve...</td>\n",
       "    </tr>\n",
       "    <tr>\n",
       "      <th>9665</th>\n",
       "      <td>s9666</td>\n",
       "      <td>Movie</td>\n",
       "      <td>Outpost</td>\n",
       "      <td>Steve Barker</td>\n",
       "      <td>Ray Stevenson, Julian Wadham, Richard Brake, M...</td>\n",
       "      <td>NaN</td>\n",
       "      <td>NaT</td>\n",
       "      <td>2008</td>\n",
       "      <td>R</td>\n",
       "      <td>90 min</td>\n",
       "      <td>Action</td>\n",
       "      <td>In war-torn Eastern Europe, a world-weary grou...</td>\n",
       "    </tr>\n",
       "    <tr>\n",
       "      <th>9666</th>\n",
       "      <td>s9667</td>\n",
       "      <td>TV Show</td>\n",
       "      <td>Maradona: Blessed Dream</td>\n",
       "      <td>NaN</td>\n",
       "      <td>Esteban Recagno, Ezequiel Stremiz, Luciano Vit...</td>\n",
       "      <td>NaN</td>\n",
       "      <td>NaT</td>\n",
       "      <td>2021</td>\n",
       "      <td>TV-MA</td>\n",
       "      <td>1 Season</td>\n",
       "      <td>Drama, Sports</td>\n",
       "      <td>The series tells the story of Diego Maradona, ...</td>\n",
       "    </tr>\n",
       "    <tr>\n",
       "      <th>9667</th>\n",
       "      <td>s9668</td>\n",
       "      <td>Movie</td>\n",
       "      <td>Harry Brown</td>\n",
       "      <td>Daniel Barber</td>\n",
       "      <td>Michael Caine, Emily Mortimer, Joseph Gilgun, ...</td>\n",
       "      <td>NaN</td>\n",
       "      <td>NaT</td>\n",
       "      <td>2010</td>\n",
       "      <td>R</td>\n",
       "      <td>103 min</td>\n",
       "      <td>Action, Drama, Suspense</td>\n",
       "      <td>Harry Brown, starring two-time Academy Award w...</td>\n",
       "    </tr>\n",
       "  </tbody>\n",
       "</table>\n",
       "<p>9668 rows × 12 columns</p>\n",
       "</div>"
      ],
      "text/plain": [
       "     show_id     type                    title         director  \\\n",
       "0         s1    Movie      The Grand Seduction     Don McKellar   \n",
       "1         s2    Movie     Take Care Good Night     Girish Joshi   \n",
       "2         s3    Movie     Secrets of Deception      Josh Webber   \n",
       "3         s4    Movie       Pink: Staying True   Sonia Anderson   \n",
       "4         s5    Movie            Monster Maker     Giles Foster   \n",
       "...      ...      ...                      ...              ...   \n",
       "9663   s9664    Movie      Pride Of The Bowery  Joseph H. Lewis   \n",
       "9664   s9665  TV Show            Planet Patrol              NaN   \n",
       "9665   s9666    Movie                  Outpost     Steve Barker   \n",
       "9666   s9667  TV Show  Maradona: Blessed Dream              NaN   \n",
       "9667   s9668    Movie              Harry Brown    Daniel Barber   \n",
       "\n",
       "                                                   cast         country  \\\n",
       "0        Brendan Gleeson, Taylor Kitsch, Gordon Pinsent          Canada   \n",
       "1      Mahesh Manjrekar, Abhay Mahajan, Sachin Khedekar           India   \n",
       "2     Tom Sizemore, Lorenzo Lamas, Robert LaSardo, R...   United States   \n",
       "3     Interviews with: Pink, Adele, BeyoncÃ©, Britne...   United States   \n",
       "4     Harry Dean Stanton, Kieran O'Brien, George Cos...  United Kingdom   \n",
       "...                                                 ...             ...   \n",
       "9663                           Leo Gorcey, Bobby Jordan             NaN   \n",
       "9664  DICK VOSBURGH, RONNIE STEVENS, LIBBY MORRIS, M...             NaN   \n",
       "9665  Ray Stevenson, Julian Wadham, Richard Brake, M...             NaN   \n",
       "9666  Esteban Recagno, Ezequiel Stremiz, Luciano Vit...             NaN   \n",
       "9667  Michael Caine, Emily Mortimer, Joseph Gilgun, ...             NaN   \n",
       "\n",
       "     date_added  release_year rating   duration               categories  \\\n",
       "0    2021-03-30          2014    NaN    113 min            Comedy, Drama   \n",
       "1    2021-03-30          2018    13+    110 min     Drama, International   \n",
       "2    2021-03-30          2017    NaN     74 min  Action, Drama, Suspense   \n",
       "3    2021-03-30          2014    NaN     69 min              Documentary   \n",
       "4    2021-03-30          1989    NaN     45 min           Drama, Fantasy   \n",
       "...         ...           ...    ...        ...                      ...   \n",
       "9663        NaT          1940     7+     60 min                   Comedy   \n",
       "9664        NaT          2018    13+  4 Seasons                 TV Shows   \n",
       "9665        NaT          2008      R     90 min                   Action   \n",
       "9666        NaT          2021  TV-MA   1 Season            Drama, Sports   \n",
       "9667        NaT          2010      R    103 min  Action, Drama, Suspense   \n",
       "\n",
       "                                            description  \n",
       "0     A small fishing village must procure a local d...  \n",
       "1     A Metro Family decides to fight a Cyber Crimin...  \n",
       "2     After a man discovers his wife is cheating on ...  \n",
       "3     Pink breaks the mold once again, bringing her ...  \n",
       "4     Teenage Matt Banting wants to work with a famo...  \n",
       "...                                                 ...  \n",
       "9663  New York City street principles get an East Si...  \n",
       "9664  This is Earth, 2100AD - and these are the adve...  \n",
       "9665  In war-torn Eastern Europe, a world-weary grou...  \n",
       "9666  The series tells the story of Diego Maradona, ...  \n",
       "9667  Harry Brown, starring two-time Academy Award w...  \n",
       "\n",
       "[9668 rows x 12 columns]"
      ]
     },
     "execution_count": 97,
     "metadata": {},
     "output_type": "execute_result"
    }
   ],
   "source": [
    "df.rename(columns={'listed_in':'categories'},inplace=True)\n",
    "df"
   ]
  },
  {
   "cell_type": "code",
   "execution_count": 98,
   "id": "aa5e58f4",
   "metadata": {
    "execution": {
     "iopub.execute_input": "2023-07-11T02:48:40.371856Z",
     "iopub.status.busy": "2023-07-11T02:48:40.370715Z",
     "iopub.status.idle": "2023-07-11T02:48:40.398458Z",
     "shell.execute_reply": "2023-07-11T02:48:40.397557Z"
    },
    "papermill": {
     "duration": 0.045159,
     "end_time": "2023-07-11T02:48:40.400779",
     "exception": false,
     "start_time": "2023-07-11T02:48:40.355620",
     "status": "completed"
    },
    "tags": []
   },
   "outputs": [
    {
     "data": {
      "text/html": [
       "<div>\n",
       "<style scoped>\n",
       "    .dataframe tbody tr th:only-of-type {\n",
       "        vertical-align: middle;\n",
       "    }\n",
       "\n",
       "    .dataframe tbody tr th {\n",
       "        vertical-align: top;\n",
       "    }\n",
       "\n",
       "    .dataframe thead th {\n",
       "        text-align: right;\n",
       "    }\n",
       "</style>\n",
       "<table border=\"1\" class=\"dataframe\">\n",
       "  <thead>\n",
       "    <tr style=\"text-align: right;\">\n",
       "      <th></th>\n",
       "      <th>type</th>\n",
       "      <th>title</th>\n",
       "      <th>director</th>\n",
       "      <th>cast</th>\n",
       "      <th>country</th>\n",
       "      <th>date_added</th>\n",
       "      <th>release_year</th>\n",
       "      <th>rating</th>\n",
       "      <th>duration</th>\n",
       "      <th>categories</th>\n",
       "    </tr>\n",
       "  </thead>\n",
       "  <tbody>\n",
       "    <tr>\n",
       "      <th>0</th>\n",
       "      <td>Movie</td>\n",
       "      <td>The Grand Seduction</td>\n",
       "      <td>Don McKellar</td>\n",
       "      <td>Brendan Gleeson, Taylor Kitsch, Gordon Pinsent</td>\n",
       "      <td>Canada</td>\n",
       "      <td>2021-03-30</td>\n",
       "      <td>2014</td>\n",
       "      <td>NaN</td>\n",
       "      <td>113 min</td>\n",
       "      <td>Comedy, Drama</td>\n",
       "    </tr>\n",
       "    <tr>\n",
       "      <th>1</th>\n",
       "      <td>Movie</td>\n",
       "      <td>Take Care Good Night</td>\n",
       "      <td>Girish Joshi</td>\n",
       "      <td>Mahesh Manjrekar, Abhay Mahajan, Sachin Khedekar</td>\n",
       "      <td>India</td>\n",
       "      <td>2021-03-30</td>\n",
       "      <td>2018</td>\n",
       "      <td>13+</td>\n",
       "      <td>110 min</td>\n",
       "      <td>Drama, International</td>\n",
       "    </tr>\n",
       "    <tr>\n",
       "      <th>2</th>\n",
       "      <td>Movie</td>\n",
       "      <td>Secrets of Deception</td>\n",
       "      <td>Josh Webber</td>\n",
       "      <td>Tom Sizemore, Lorenzo Lamas, Robert LaSardo, R...</td>\n",
       "      <td>United States</td>\n",
       "      <td>2021-03-30</td>\n",
       "      <td>2017</td>\n",
       "      <td>NaN</td>\n",
       "      <td>74 min</td>\n",
       "      <td>Action, Drama, Suspense</td>\n",
       "    </tr>\n",
       "    <tr>\n",
       "      <th>3</th>\n",
       "      <td>Movie</td>\n",
       "      <td>Pink: Staying True</td>\n",
       "      <td>Sonia Anderson</td>\n",
       "      <td>Interviews with: Pink, Adele, BeyoncÃ©, Britne...</td>\n",
       "      <td>United States</td>\n",
       "      <td>2021-03-30</td>\n",
       "      <td>2014</td>\n",
       "      <td>NaN</td>\n",
       "      <td>69 min</td>\n",
       "      <td>Documentary</td>\n",
       "    </tr>\n",
       "    <tr>\n",
       "      <th>4</th>\n",
       "      <td>Movie</td>\n",
       "      <td>Monster Maker</td>\n",
       "      <td>Giles Foster</td>\n",
       "      <td>Harry Dean Stanton, Kieran O'Brien, George Cos...</td>\n",
       "      <td>United Kingdom</td>\n",
       "      <td>2021-03-30</td>\n",
       "      <td>1989</td>\n",
       "      <td>NaN</td>\n",
       "      <td>45 min</td>\n",
       "      <td>Drama, Fantasy</td>\n",
       "    </tr>\n",
       "    <tr>\n",
       "      <th>...</th>\n",
       "      <td>...</td>\n",
       "      <td>...</td>\n",
       "      <td>...</td>\n",
       "      <td>...</td>\n",
       "      <td>...</td>\n",
       "      <td>...</td>\n",
       "      <td>...</td>\n",
       "      <td>...</td>\n",
       "      <td>...</td>\n",
       "      <td>...</td>\n",
       "    </tr>\n",
       "    <tr>\n",
       "      <th>9663</th>\n",
       "      <td>Movie</td>\n",
       "      <td>Pride Of The Bowery</td>\n",
       "      <td>Joseph H. Lewis</td>\n",
       "      <td>Leo Gorcey, Bobby Jordan</td>\n",
       "      <td>NaN</td>\n",
       "      <td>NaT</td>\n",
       "      <td>1940</td>\n",
       "      <td>7+</td>\n",
       "      <td>60 min</td>\n",
       "      <td>Comedy</td>\n",
       "    </tr>\n",
       "    <tr>\n",
       "      <th>9664</th>\n",
       "      <td>TV Show</td>\n",
       "      <td>Planet Patrol</td>\n",
       "      <td>NaN</td>\n",
       "      <td>DICK VOSBURGH, RONNIE STEVENS, LIBBY MORRIS, M...</td>\n",
       "      <td>NaN</td>\n",
       "      <td>NaT</td>\n",
       "      <td>2018</td>\n",
       "      <td>13+</td>\n",
       "      <td>4 Seasons</td>\n",
       "      <td>TV Shows</td>\n",
       "    </tr>\n",
       "    <tr>\n",
       "      <th>9665</th>\n",
       "      <td>Movie</td>\n",
       "      <td>Outpost</td>\n",
       "      <td>Steve Barker</td>\n",
       "      <td>Ray Stevenson, Julian Wadham, Richard Brake, M...</td>\n",
       "      <td>NaN</td>\n",
       "      <td>NaT</td>\n",
       "      <td>2008</td>\n",
       "      <td>R</td>\n",
       "      <td>90 min</td>\n",
       "      <td>Action</td>\n",
       "    </tr>\n",
       "    <tr>\n",
       "      <th>9666</th>\n",
       "      <td>TV Show</td>\n",
       "      <td>Maradona: Blessed Dream</td>\n",
       "      <td>NaN</td>\n",
       "      <td>Esteban Recagno, Ezequiel Stremiz, Luciano Vit...</td>\n",
       "      <td>NaN</td>\n",
       "      <td>NaT</td>\n",
       "      <td>2021</td>\n",
       "      <td>TV-MA</td>\n",
       "      <td>1 Season</td>\n",
       "      <td>Drama, Sports</td>\n",
       "    </tr>\n",
       "    <tr>\n",
       "      <th>9667</th>\n",
       "      <td>Movie</td>\n",
       "      <td>Harry Brown</td>\n",
       "      <td>Daniel Barber</td>\n",
       "      <td>Michael Caine, Emily Mortimer, Joseph Gilgun, ...</td>\n",
       "      <td>NaN</td>\n",
       "      <td>NaT</td>\n",
       "      <td>2010</td>\n",
       "      <td>R</td>\n",
       "      <td>103 min</td>\n",
       "      <td>Action, Drama, Suspense</td>\n",
       "    </tr>\n",
       "  </tbody>\n",
       "</table>\n",
       "<p>9668 rows × 10 columns</p>\n",
       "</div>"
      ],
      "text/plain": [
       "         type                    title         director  \\\n",
       "0       Movie      The Grand Seduction     Don McKellar   \n",
       "1       Movie     Take Care Good Night     Girish Joshi   \n",
       "2       Movie     Secrets of Deception      Josh Webber   \n",
       "3       Movie       Pink: Staying True   Sonia Anderson   \n",
       "4       Movie            Monster Maker     Giles Foster   \n",
       "...       ...                      ...              ...   \n",
       "9663    Movie      Pride Of The Bowery  Joseph H. Lewis   \n",
       "9664  TV Show            Planet Patrol              NaN   \n",
       "9665    Movie                  Outpost     Steve Barker   \n",
       "9666  TV Show  Maradona: Blessed Dream              NaN   \n",
       "9667    Movie              Harry Brown    Daniel Barber   \n",
       "\n",
       "                                                   cast         country  \\\n",
       "0        Brendan Gleeson, Taylor Kitsch, Gordon Pinsent          Canada   \n",
       "1      Mahesh Manjrekar, Abhay Mahajan, Sachin Khedekar           India   \n",
       "2     Tom Sizemore, Lorenzo Lamas, Robert LaSardo, R...   United States   \n",
       "3     Interviews with: Pink, Adele, BeyoncÃ©, Britne...   United States   \n",
       "4     Harry Dean Stanton, Kieran O'Brien, George Cos...  United Kingdom   \n",
       "...                                                 ...             ...   \n",
       "9663                           Leo Gorcey, Bobby Jordan             NaN   \n",
       "9664  DICK VOSBURGH, RONNIE STEVENS, LIBBY MORRIS, M...             NaN   \n",
       "9665  Ray Stevenson, Julian Wadham, Richard Brake, M...             NaN   \n",
       "9666  Esteban Recagno, Ezequiel Stremiz, Luciano Vit...             NaN   \n",
       "9667  Michael Caine, Emily Mortimer, Joseph Gilgun, ...             NaN   \n",
       "\n",
       "     date_added  release_year rating   duration               categories  \n",
       "0    2021-03-30          2014    NaN    113 min            Comedy, Drama  \n",
       "1    2021-03-30          2018    13+    110 min     Drama, International  \n",
       "2    2021-03-30          2017    NaN     74 min  Action, Drama, Suspense  \n",
       "3    2021-03-30          2014    NaN     69 min              Documentary  \n",
       "4    2021-03-30          1989    NaN     45 min           Drama, Fantasy  \n",
       "...         ...           ...    ...        ...                      ...  \n",
       "9663        NaT          1940     7+     60 min                   Comedy  \n",
       "9664        NaT          2018    13+  4 Seasons                 TV Shows  \n",
       "9665        NaT          2008      R     90 min                   Action  \n",
       "9666        NaT          2021  TV-MA   1 Season            Drama, Sports  \n",
       "9667        NaT          2010      R    103 min  Action, Drama, Suspense  \n",
       "\n",
       "[9668 rows x 10 columns]"
      ]
     },
     "execution_count": 98,
     "metadata": {},
     "output_type": "execute_result"
    }
   ],
   "source": [
    "\n",
    "df.drop(['show_id'], axis = 1, inplace = True)\n",
    "df.drop(['description'], axis = 1, inplace = True)\n",
    "df"
   ]
  },
  {
   "cell_type": "code",
   "execution_count": 99,
   "id": "a6614821",
   "metadata": {
    "execution": {
     "iopub.execute_input": "2023-07-11T02:48:40.458844Z",
     "iopub.status.busy": "2023-07-11T02:48:40.457694Z",
     "iopub.status.idle": "2023-07-11T02:48:40.465188Z",
     "shell.execute_reply": "2023-07-11T02:48:40.463983Z"
    },
    "papermill": {
     "duration": 0.025104,
     "end_time": "2023-07-11T02:48:40.467539",
     "exception": false,
     "start_time": "2023-07-11T02:48:40.442435",
     "status": "completed"
    },
    "tags": []
   },
   "outputs": [
    {
     "data": {
      "text/plain": [
       "(9668, 10)"
      ]
     },
     "execution_count": 99,
     "metadata": {},
     "output_type": "execute_result"
    }
   ],
   "source": [
    "df.shape"
   ]
  },
  {
   "cell_type": "code",
   "execution_count": 100,
   "id": "03301cae",
   "metadata": {
    "execution": {
     "iopub.execute_input": "2023-07-11T02:48:40.498209Z",
     "iopub.status.busy": "2023-07-11T02:48:40.497397Z",
     "iopub.status.idle": "2023-07-11T02:48:40.545086Z",
     "shell.execute_reply": "2023-07-11T02:48:40.543512Z"
    },
    "papermill": {
     "duration": 0.06603,
     "end_time": "2023-07-11T02:48:40.547698",
     "exception": false,
     "start_time": "2023-07-11T02:48:40.481668",
     "status": "completed"
    },
    "tags": []
   },
   "outputs": [
    {
     "name": "stdout",
     "output_type": "stream",
     "text": [
      "<class 'pandas.core.frame.DataFrame'>\n",
      "RangeIndex: 9668 entries, 0 to 9667\n",
      "Data columns (total 10 columns):\n",
      " #   Column        Non-Null Count  Dtype         \n",
      "---  ------        --------------  -----         \n",
      " 0   type          9668 non-null   object        \n",
      " 1   title         9668 non-null   object        \n",
      " 2   director      7585 non-null   object        \n",
      " 3   cast          8435 non-null   object        \n",
      " 4   country       672 non-null    object        \n",
      " 5   date_added    155 non-null    datetime64[ns]\n",
      " 6   release_year  9668 non-null   int64         \n",
      " 7   rating        9331 non-null   object        \n",
      " 8   duration      9668 non-null   object        \n",
      " 9   categories    9668 non-null   object        \n",
      "dtypes: datetime64[ns](1), int64(1), object(8)\n",
      "memory usage: 755.4+ KB\n"
     ]
    }
   ],
   "source": [
    "df.info()"
   ]
  },
  {
   "cell_type": "code",
   "execution_count": 101,
   "id": "f47601bd",
   "metadata": {
    "execution": {
     "iopub.execute_input": "2023-07-11T02:48:40.578381Z",
     "iopub.status.busy": "2023-07-11T02:48:40.577980Z",
     "iopub.status.idle": "2023-07-11T02:48:40.636644Z",
     "shell.execute_reply": "2023-07-11T02:48:40.635423Z"
    },
    "papermill": {
     "duration": 0.077123,
     "end_time": "2023-07-11T02:48:40.639132",
     "exception": false,
     "start_time": "2023-07-11T02:48:40.562009",
     "status": "completed"
    },
    "tags": []
   },
   "outputs": [
    {
     "data": {
      "text/html": [
       "<div>\n",
       "<style scoped>\n",
       "    .dataframe tbody tr th:only-of-type {\n",
       "        vertical-align: middle;\n",
       "    }\n",
       "\n",
       "    .dataframe tbody tr th {\n",
       "        vertical-align: top;\n",
       "    }\n",
       "\n",
       "    .dataframe thead th {\n",
       "        text-align: right;\n",
       "    }\n",
       "</style>\n",
       "<table border=\"1\" class=\"dataframe\">\n",
       "  <thead>\n",
       "    <tr style=\"text-align: right;\">\n",
       "      <th></th>\n",
       "      <th>type</th>\n",
       "      <th>title</th>\n",
       "      <th>director</th>\n",
       "      <th>cast</th>\n",
       "      <th>country</th>\n",
       "      <th>rating</th>\n",
       "      <th>duration</th>\n",
       "      <th>categories</th>\n",
       "    </tr>\n",
       "  </thead>\n",
       "  <tbody>\n",
       "    <tr>\n",
       "      <th>count</th>\n",
       "      <td>9668</td>\n",
       "      <td>9668</td>\n",
       "      <td>7585</td>\n",
       "      <td>8435</td>\n",
       "      <td>672</td>\n",
       "      <td>9331</td>\n",
       "      <td>9668</td>\n",
       "      <td>9668</td>\n",
       "    </tr>\n",
       "    <tr>\n",
       "      <th>unique</th>\n",
       "      <td>2</td>\n",
       "      <td>9668</td>\n",
       "      <td>5773</td>\n",
       "      <td>7927</td>\n",
       "      <td>86</td>\n",
       "      <td>24</td>\n",
       "      <td>219</td>\n",
       "      <td>518</td>\n",
       "    </tr>\n",
       "    <tr>\n",
       "      <th>top</th>\n",
       "      <td>Movie</td>\n",
       "      <td>The Grand Seduction</td>\n",
       "      <td>Mark Knight</td>\n",
       "      <td>Maggie Binkley</td>\n",
       "      <td>United States</td>\n",
       "      <td>13+</td>\n",
       "      <td>1 Season</td>\n",
       "      <td>Drama</td>\n",
       "    </tr>\n",
       "    <tr>\n",
       "      <th>freq</th>\n",
       "      <td>7814</td>\n",
       "      <td>1</td>\n",
       "      <td>113</td>\n",
       "      <td>56</td>\n",
       "      <td>253</td>\n",
       "      <td>2117</td>\n",
       "      <td>1342</td>\n",
       "      <td>986</td>\n",
       "    </tr>\n",
       "  </tbody>\n",
       "</table>\n",
       "</div>"
      ],
      "text/plain": [
       "         type                title     director            cast  \\\n",
       "count    9668                 9668         7585            8435   \n",
       "unique      2                 9668         5773            7927   \n",
       "top     Movie  The Grand Seduction  Mark Knight  Maggie Binkley   \n",
       "freq     7814                    1          113              56   \n",
       "\n",
       "              country rating  duration categories  \n",
       "count             672   9331      9668       9668  \n",
       "unique             86     24       219        518  \n",
       "top     United States    13+  1 Season      Drama  \n",
       "freq              253   2117      1342        986  "
      ]
     },
     "execution_count": 101,
     "metadata": {},
     "output_type": "execute_result"
    }
   ],
   "source": [
    "df.describe(include = object)"
   ]
  },
  {
   "cell_type": "code",
   "execution_count": 102,
   "id": "2bd0e04f",
   "metadata": {
    "execution": {
     "iopub.execute_input": "2023-07-11T02:48:40.698934Z",
     "iopub.status.busy": "2023-07-11T02:48:40.698300Z",
     "iopub.status.idle": "2023-07-11T02:48:40.724320Z",
     "shell.execute_reply": "2023-07-11T02:48:40.723207Z"
    },
    "papermill": {
     "duration": 0.044325,
     "end_time": "2023-07-11T02:48:40.726626",
     "exception": false,
     "start_time": "2023-07-11T02:48:40.682301",
     "status": "completed"
    },
    "tags": []
   },
   "outputs": [
    {
     "data": {
      "text/plain": [
       "0"
      ]
     },
     "execution_count": 102,
     "metadata": {},
     "output_type": "execute_result"
    }
   ],
   "source": [
    "df.duplicated().sum()"
   ]
  },
  {
   "cell_type": "code",
   "execution_count": 103,
   "id": "8077cd49",
   "metadata": {
    "execution": {
     "iopub.execute_input": "2023-07-11T02:48:40.786094Z",
     "iopub.status.busy": "2023-07-11T02:48:40.785696Z",
     "iopub.status.idle": "2023-07-11T02:48:40.821240Z",
     "shell.execute_reply": "2023-07-11T02:48:40.820095Z"
    },
    "papermill": {
     "duration": 0.053675,
     "end_time": "2023-07-11T02:48:40.823404",
     "exception": false,
     "start_time": "2023-07-11T02:48:40.769729",
     "status": "completed"
    },
    "tags": []
   },
   "outputs": [
    {
     "data": {
      "text/plain": [
       "type               0\n",
       "title              0\n",
       "director        2083\n",
       "cast            1233\n",
       "country         8996\n",
       "date_added      9513\n",
       "release_year       0\n",
       "rating           337\n",
       "duration           0\n",
       "categories         0\n",
       "dtype: int64"
      ]
     },
     "execution_count": 103,
     "metadata": {},
     "output_type": "execute_result"
    }
   ],
   "source": [
    "df.isnull().sum()"
   ]
  },
  {
   "cell_type": "code",
   "execution_count": 104,
   "id": "28ae9bad",
   "metadata": {
    "execution": {
     "iopub.execute_input": "2023-07-11T02:48:40.854577Z",
     "iopub.status.busy": "2023-07-11T02:48:40.854199Z",
     "iopub.status.idle": "2023-07-11T02:48:40.893473Z",
     "shell.execute_reply": "2023-07-11T02:48:40.892414Z"
    },
    "papermill": {
     "duration": 0.057831,
     "end_time": "2023-07-11T02:48:40.896205",
     "exception": false,
     "start_time": "2023-07-11T02:48:40.838374",
     "status": "completed"
    },
    "tags": []
   },
   "outputs": [],
   "source": [
    "df['director'].fillna('Unavailable', inplace=True)\n",
    "df['cast'].fillna('Unavailable', inplace=True)\n",
    "df['country'].fillna('Unavailable', inplace=True)\n",
    "df['rating'] = df['rating'].fillna(df['rating'].mode()[0])\n",
    "df['date_added']= df['date_added'].ffill()"
   ]
  },
  {
   "cell_type": "code",
   "execution_count": 105,
   "id": "78cce9c0",
   "metadata": {
    "execution": {
     "iopub.execute_input": "2023-07-11T02:48:40.928836Z",
     "iopub.status.busy": "2023-07-11T02:48:40.928467Z",
     "iopub.status.idle": "2023-07-11T02:48:40.955234Z",
     "shell.execute_reply": "2023-07-11T02:48:40.954048Z"
    },
    "papermill": {
     "duration": 0.04596,
     "end_time": "2023-07-11T02:48:40.957833",
     "exception": false,
     "start_time": "2023-07-11T02:48:40.911873",
     "status": "completed"
    },
    "tags": []
   },
   "outputs": [],
   "source": [
    "df['date_added']= pd.to_datetime(df['date_added'], format='%B %d, %Y')\n"
   ]
  },
  {
   "cell_type": "code",
   "execution_count": 106,
   "id": "8050b07b",
   "metadata": {
    "execution": {
     "iopub.execute_input": "2023-07-11T02:48:40.991293Z",
     "iopub.status.busy": "2023-07-11T02:48:40.990871Z",
     "iopub.status.idle": "2023-07-11T02:48:41.024944Z",
     "shell.execute_reply": "2023-07-11T02:48:41.023917Z"
    },
    "papermill": {
     "duration": 0.053349,
     "end_time": "2023-07-11T02:48:41.027187",
     "exception": false,
     "start_time": "2023-07-11T02:48:40.973838",
     "status": "completed"
    },
    "tags": []
   },
   "outputs": [
    {
     "data": {
      "text/plain": [
       "type            0\n",
       "title           0\n",
       "director        0\n",
       "cast            0\n",
       "country         0\n",
       "date_added      0\n",
       "release_year    0\n",
       "rating          0\n",
       "duration        0\n",
       "categories      0\n",
       "dtype: int64"
      ]
     },
     "execution_count": 106,
     "metadata": {},
     "output_type": "execute_result"
    }
   ],
   "source": [
    "df.isnull().sum()"
   ]
  },
  {
   "cell_type": "code",
   "execution_count": 107,
   "id": "a610105f",
   "metadata": {
    "execution": {
     "iopub.execute_input": "2023-07-11T02:48:41.094343Z",
     "iopub.status.busy": "2023-07-11T02:48:41.093423Z",
     "iopub.status.idle": "2023-07-11T02:48:41.278101Z",
     "shell.execute_reply": "2023-07-11T02:48:41.276996Z"
    },
    "papermill": {
     "duration": 0.205703,
     "end_time": "2023-07-11T02:48:41.280560",
     "exception": false,
     "start_time": "2023-07-11T02:48:41.074857",
     "status": "completed"
    },
    "tags": []
   },
   "outputs": [
    {
     "data": {
      "text/html": [
       "<div>\n",
       "<style scoped>\n",
       "    .dataframe tbody tr th:only-of-type {\n",
       "        vertical-align: middle;\n",
       "    }\n",
       "\n",
       "    .dataframe tbody tr th {\n",
       "        vertical-align: top;\n",
       "    }\n",
       "\n",
       "    .dataframe thead th {\n",
       "        text-align: right;\n",
       "    }\n",
       "</style>\n",
       "<table border=\"1\" class=\"dataframe\">\n",
       "  <thead>\n",
       "    <tr style=\"text-align: right;\">\n",
       "      <th></th>\n",
       "      <th>type</th>\n",
       "      <th>title</th>\n",
       "      <th>director</th>\n",
       "      <th>cast</th>\n",
       "      <th>country</th>\n",
       "      <th>date_added</th>\n",
       "      <th>release_year</th>\n",
       "      <th>rating</th>\n",
       "      <th>duration</th>\n",
       "      <th>categories</th>\n",
       "    </tr>\n",
       "  </thead>\n",
       "  <tbody>\n",
       "    <tr>\n",
       "      <th>0</th>\n",
       "      <td>Movie</td>\n",
       "      <td>The Grand Seduction</td>\n",
       "      <td>Don McKellar</td>\n",
       "      <td>Brendan Gleeson, Taylor Kitsch, Gordon Pinsent</td>\n",
       "      <td>Canada</td>\n",
       "      <td>2021-03-30</td>\n",
       "      <td>2014</td>\n",
       "      <td>13+</td>\n",
       "      <td>113 min</td>\n",
       "      <td>Comedy, Drama</td>\n",
       "    </tr>\n",
       "    <tr>\n",
       "      <th>1</th>\n",
       "      <td>Movie</td>\n",
       "      <td>Take Care Good Night</td>\n",
       "      <td>Girish Joshi</td>\n",
       "      <td>Mahesh Manjrekar, Abhay Mahajan, Sachin Khedekar</td>\n",
       "      <td>India</td>\n",
       "      <td>2021-03-30</td>\n",
       "      <td>2018</td>\n",
       "      <td>13+</td>\n",
       "      <td>110 min</td>\n",
       "      <td>Drama, International</td>\n",
       "    </tr>\n",
       "    <tr>\n",
       "      <th>2</th>\n",
       "      <td>Movie</td>\n",
       "      <td>Secrets of Deception</td>\n",
       "      <td>Josh Webber</td>\n",
       "      <td>Tom Sizemore, Lorenzo Lamas, Robert LaSardo, R...</td>\n",
       "      <td>United States</td>\n",
       "      <td>2021-03-30</td>\n",
       "      <td>2017</td>\n",
       "      <td>13+</td>\n",
       "      <td>74 min</td>\n",
       "      <td>Action, Drama, Suspense</td>\n",
       "    </tr>\n",
       "    <tr>\n",
       "      <th>3</th>\n",
       "      <td>Movie</td>\n",
       "      <td>Pink: Staying True</td>\n",
       "      <td>Sonia Anderson</td>\n",
       "      <td>Interviews with: Pink, Adele, BeyoncÃ©, Britne...</td>\n",
       "      <td>United States</td>\n",
       "      <td>2021-03-30</td>\n",
       "      <td>2014</td>\n",
       "      <td>13+</td>\n",
       "      <td>69 min</td>\n",
       "      <td>Documentary</td>\n",
       "    </tr>\n",
       "    <tr>\n",
       "      <th>4</th>\n",
       "      <td>Movie</td>\n",
       "      <td>Monster Maker</td>\n",
       "      <td>Giles Foster</td>\n",
       "      <td>Harry Dean Stanton, Kieran O'Brien, George Cos...</td>\n",
       "      <td>United Kingdom</td>\n",
       "      <td>2021-03-30</td>\n",
       "      <td>1989</td>\n",
       "      <td>13+</td>\n",
       "      <td>45 min</td>\n",
       "      <td>Drama, Fantasy</td>\n",
       "    </tr>\n",
       "    <tr>\n",
       "      <th>...</th>\n",
       "      <td>...</td>\n",
       "      <td>...</td>\n",
       "      <td>...</td>\n",
       "      <td>...</td>\n",
       "      <td>...</td>\n",
       "      <td>...</td>\n",
       "      <td>...</td>\n",
       "      <td>...</td>\n",
       "      <td>...</td>\n",
       "      <td>...</td>\n",
       "    </tr>\n",
       "    <tr>\n",
       "      <th>9663</th>\n",
       "      <td>Movie</td>\n",
       "      <td>Pride Of The Bowery</td>\n",
       "      <td>Joseph H. Lewis</td>\n",
       "      <td>Leo Gorcey, Bobby Jordan</td>\n",
       "      <td>Unavailable</td>\n",
       "      <td>2021-10-10</td>\n",
       "      <td>1940</td>\n",
       "      <td>7+</td>\n",
       "      <td>60 min</td>\n",
       "      <td>Comedy</td>\n",
       "    </tr>\n",
       "    <tr>\n",
       "      <th>9664</th>\n",
       "      <td>TV Show</td>\n",
       "      <td>Planet Patrol</td>\n",
       "      <td>Unavailable</td>\n",
       "      <td>DICK VOSBURGH, RONNIE STEVENS, LIBBY MORRIS, M...</td>\n",
       "      <td>Unavailable</td>\n",
       "      <td>2021-10-10</td>\n",
       "      <td>2018</td>\n",
       "      <td>13+</td>\n",
       "      <td>4 Seasons</td>\n",
       "      <td>TV Shows</td>\n",
       "    </tr>\n",
       "    <tr>\n",
       "      <th>9665</th>\n",
       "      <td>Movie</td>\n",
       "      <td>Outpost</td>\n",
       "      <td>Steve Barker</td>\n",
       "      <td>Ray Stevenson, Julian Wadham, Richard Brake, M...</td>\n",
       "      <td>Unavailable</td>\n",
       "      <td>2021-10-10</td>\n",
       "      <td>2008</td>\n",
       "      <td>R</td>\n",
       "      <td>90 min</td>\n",
       "      <td>Action</td>\n",
       "    </tr>\n",
       "    <tr>\n",
       "      <th>9666</th>\n",
       "      <td>TV Show</td>\n",
       "      <td>Maradona: Blessed Dream</td>\n",
       "      <td>Unavailable</td>\n",
       "      <td>Esteban Recagno, Ezequiel Stremiz, Luciano Vit...</td>\n",
       "      <td>Unavailable</td>\n",
       "      <td>2021-10-10</td>\n",
       "      <td>2021</td>\n",
       "      <td>TV-MA</td>\n",
       "      <td>1 Season</td>\n",
       "      <td>Drama, Sports</td>\n",
       "    </tr>\n",
       "    <tr>\n",
       "      <th>9667</th>\n",
       "      <td>Movie</td>\n",
       "      <td>Harry Brown</td>\n",
       "      <td>Daniel Barber</td>\n",
       "      <td>Michael Caine, Emily Mortimer, Joseph Gilgun, ...</td>\n",
       "      <td>Unavailable</td>\n",
       "      <td>2021-10-10</td>\n",
       "      <td>2010</td>\n",
       "      <td>R</td>\n",
       "      <td>103 min</td>\n",
       "      <td>Action, Drama, Suspense</td>\n",
       "    </tr>\n",
       "  </tbody>\n",
       "</table>\n",
       "<p>9668 rows × 10 columns</p>\n",
       "</div>"
      ],
      "text/plain": [
       "         type                    title         director  \\\n",
       "0       Movie      The Grand Seduction     Don McKellar   \n",
       "1       Movie     Take Care Good Night     Girish Joshi   \n",
       "2       Movie     Secrets of Deception      Josh Webber   \n",
       "3       Movie       Pink: Staying True   Sonia Anderson   \n",
       "4       Movie            Monster Maker     Giles Foster   \n",
       "...       ...                      ...              ...   \n",
       "9663    Movie      Pride Of The Bowery  Joseph H. Lewis   \n",
       "9664  TV Show            Planet Patrol      Unavailable   \n",
       "9665    Movie                  Outpost     Steve Barker   \n",
       "9666  TV Show  Maradona: Blessed Dream      Unavailable   \n",
       "9667    Movie              Harry Brown    Daniel Barber   \n",
       "\n",
       "                                                   cast         country  \\\n",
       "0        Brendan Gleeson, Taylor Kitsch, Gordon Pinsent          Canada   \n",
       "1      Mahesh Manjrekar, Abhay Mahajan, Sachin Khedekar           India   \n",
       "2     Tom Sizemore, Lorenzo Lamas, Robert LaSardo, R...   United States   \n",
       "3     Interviews with: Pink, Adele, BeyoncÃ©, Britne...   United States   \n",
       "4     Harry Dean Stanton, Kieran O'Brien, George Cos...  United Kingdom   \n",
       "...                                                 ...             ...   \n",
       "9663                           Leo Gorcey, Bobby Jordan     Unavailable   \n",
       "9664  DICK VOSBURGH, RONNIE STEVENS, LIBBY MORRIS, M...     Unavailable   \n",
       "9665  Ray Stevenson, Julian Wadham, Richard Brake, M...     Unavailable   \n",
       "9666  Esteban Recagno, Ezequiel Stremiz, Luciano Vit...     Unavailable   \n",
       "9667  Michael Caine, Emily Mortimer, Joseph Gilgun, ...     Unavailable   \n",
       "\n",
       "     date_added  release_year rating   duration               categories  \n",
       "0    2021-03-30          2014    13+    113 min            Comedy, Drama  \n",
       "1    2021-03-30          2018    13+    110 min     Drama, International  \n",
       "2    2021-03-30          2017    13+     74 min  Action, Drama, Suspense  \n",
       "3    2021-03-30          2014    13+     69 min              Documentary  \n",
       "4    2021-03-30          1989    13+     45 min           Drama, Fantasy  \n",
       "...         ...           ...    ...        ...                      ...  \n",
       "9663 2021-10-10          1940     7+     60 min                   Comedy  \n",
       "9664 2021-10-10          2018    13+  4 Seasons                 TV Shows  \n",
       "9665 2021-10-10          2008      R     90 min                   Action  \n",
       "9666 2021-10-10          2021  TV-MA   1 Season            Drama, Sports  \n",
       "9667 2021-10-10          2010      R    103 min  Action, Drama, Suspense  \n",
       "\n",
       "[9668 rows x 10 columns]"
      ]
     },
     "execution_count": 107,
     "metadata": {},
     "output_type": "execute_result"
    }
   ],
   "source": [
    "df_clean = pd.DataFrame(df)\n",
    "df_clean.to_csv(\"df_clean.csv\")\n",
    "df_clean"
   ]
  },
  {
   "cell_type": "markdown",
   "id": "e9464aa0",
   "metadata": {
    "papermill": {
     "duration": 0.016034,
     "end_time": "2023-07-11T02:48:41.312721",
     "exception": false,
     "start_time": "2023-07-11T02:48:41.296687",
     "status": "completed"
    },
    "tags": []
   },
   "source": [
    "EDA\n"
   ]
  },
  {
   "cell_type": "code",
   "execution_count": 108,
   "id": "e93b68d3",
   "metadata": {
    "execution": {
     "iopub.execute_input": "2023-07-11T02:48:41.346556Z",
     "iopub.status.busy": "2023-07-11T02:48:41.346170Z",
     "iopub.status.idle": "2023-07-11T02:48:41.355881Z",
     "shell.execute_reply": "2023-07-11T02:48:41.354721Z"
    },
    "papermill": {
     "duration": 0.029666,
     "end_time": "2023-07-11T02:48:41.358396",
     "exception": false,
     "start_time": "2023-07-11T02:48:41.328730",
     "status": "completed"
    },
    "tags": []
   },
   "outputs": [
    {
     "data": {
      "text/plain": [
       "type\n",
       "Movie      7814\n",
       "TV Show    1854\n",
       "Name: count, dtype: int64"
      ]
     },
     "execution_count": 108,
     "metadata": {},
     "output_type": "execute_result"
    }
   ],
   "source": [
    "df.type.value_counts()"
   ]
  },
  {
   "cell_type": "code",
   "execution_count": 109,
   "id": "31546832",
   "metadata": {
    "execution": {
     "iopub.execute_input": "2023-07-11T02:48:41.394143Z",
     "iopub.status.busy": "2023-07-11T02:48:41.392925Z",
     "iopub.status.idle": "2023-07-11T02:48:41.404047Z",
     "shell.execute_reply": "2023-07-11T02:48:41.402964Z"
    },
    "papermill": {
     "duration": 0.031369,
     "end_time": "2023-07-11T02:48:41.406232",
     "exception": false,
     "start_time": "2023-07-11T02:48:41.374863",
     "status": "completed"
    },
    "tags": []
   },
   "outputs": [
    {
     "data": {
      "text/plain": [
       "type\n",
       "Movie      0.808233\n",
       "TV Show    0.191767\n",
       "Name: proportion, dtype: float64"
      ]
     },
     "execution_count": 109,
     "metadata": {},
     "output_type": "execute_result"
    }
   ],
   "source": [
    "df.type.value_counts(normalize=True)"
   ]
  },
  {
   "cell_type": "markdown",
   "id": "3b86936d",
   "metadata": {
    "papermill": {
     "duration": 0.016052,
     "end_time": "2023-07-11T02:48:41.439285",
     "exception": false,
     "start_time": "2023-07-11T02:48:41.423233",
     "status": "completed"
    },
    "tags": []
   },
   "source": [
    "### Number of Show Type Variable"
   ]
  },
  {
   "cell_type": "code",
   "execution_count": 110,
   "id": "5505dd60",
   "metadata": {
    "execution": {
     "iopub.execute_input": "2023-07-11T02:48:41.474177Z",
     "iopub.status.busy": "2023-07-11T02:48:41.473416Z",
     "iopub.status.idle": "2023-07-11T02:48:41.823565Z",
     "shell.execute_reply": "2023-07-11T02:48:41.822417Z"
    },
    "papermill": {
     "duration": 0.370708,
     "end_time": "2023-07-11T02:48:41.826404",
     "exception": false,
     "start_time": "2023-07-11T02:48:41.455696",
     "status": "completed"
    },
    "tags": []
   },
   "outputs": [
    {
     "data": {
      "image/png": "[encoded data removed]",
      "text/plain": [
       "<Figure size 600x600 with 1 Axes>"
      ]
     },
     "metadata": {},
     "output_type": "display_data"
    }
   ],
   "source": [
    "plt.figure(figsize=(6,6))\n",
    "plt.title(\"Value Counts of The Type Variable\")\n",
    "sns.set_theme(style=\"darkgrid\")\n",
    "ax = sns.countplot(x=\"type\", data=df, palette=\"Pastel2\")\n",
    "ax.bar_label(ax.containers[0])\n",
    "plt.show()\n"
   ]
  },
  {
   "cell_type": "markdown",
   "id": "5bd8336d",
   "metadata": {
    "papermill": {
     "duration": 0.016753,
     "end_time": "2023-07-11T02:48:41.860805",
     "exception": false,
     "start_time": "2023-07-11T02:48:41.844052",
     "status": "completed"
    },
    "tags": []
   },
   "source": [
    "> As we can see, the most types of shows that have been released on Amazon Prime are movie shows compared to TV shows, specifically movies with 80.82% and TV shows with 19.18%."
   ]
  },
  {
   "cell_type": "markdown",
   "id": "4ff9add6",
   "metadata": {
    "papermill": {
     "duration": 0.01666,
     "end_time": "2023-07-11T02:48:41.894522",
     "exception": false,
     "start_time": "2023-07-11T02:48:41.877862",
     "status": "completed"
    },
    "tags": []
   },
   "source": [
    "### Number of Ratings Variable"
   ]
  },
  {
   "cell_type": "code",
   "execution_count": 111,
   "id": "645402fd",
   "metadata": {
    "execution": {
     "iopub.execute_input": "2023-07-11T02:48:41.930508Z",
     "iopub.status.busy": "2023-07-11T02:48:41.930094Z",
     "iopub.status.idle": "2023-07-11T02:48:42.844791Z",
     "shell.execute_reply": "2023-07-11T02:48:42.843492Z"
    },
    "papermill": {
     "duration": 0.936735,
     "end_time": "2023-07-11T02:48:42.848245",
     "exception": false,
     "start_time": "2023-07-11T02:48:41.911510",
     "status": "completed"
    },
    "tags": []
   },
   "outputs": [
    {
     "data": {
      "text/plain": [
       "[Text(0, 0, '2454')]"
      ]
     },
     "execution_count": 111,
     "metadata": {},
     "output_type": "execute_result"
    },
    {
     "data": {
      "image/png": "[encoded data removed]",
      "text/plain": [
       "<Figure size 3000x600 with 1 Axes>"
      ]
     },
     "metadata": {},
     "output_type": "display_data"
    }
   ],
   "source": [
    "plt.figure(figsize=(30,6))\n",
    "plt.title(\"Value Counts of The Ratings Variable\")\n",
    "sns.set_theme(style=\"darkgrid\")\n",
    "ax = sns.countplot(x=\"rating\", data=df, palette=\"Pastel2\")\n",
    "ax.bar_label(ax.containers[0])"
   ]
  },
  {
   "cell_type": "markdown",
   "id": "bb86c3f8",
   "metadata": {
    "papermill": {
     "duration": 0.018052,
     "end_time": "2023-07-11T02:48:42.887087",
     "exception": false,
     "start_time": "2023-07-11T02:48:42.869035",
     "status": "completed"
    },
    "tags": []
   },
   "source": [
    "> Rating of the shows that the most added on Amazon Prime was from 13+ rate"
   ]
  },
  {
   "cell_type": "markdown",
   "id": "0bc4eca9",
   "metadata": {
    "papermill": {
     "duration": 0.018072,
     "end_time": "2023-07-11T02:48:42.923529",
     "exception": false,
     "start_time": "2023-07-11T02:48:42.905457",
     "status": "completed"
    },
    "tags": []
   },
   "source": [
    "### Categories"
   ]
  },
  {
   "cell_type": "code",
   "execution_count": 112,
   "id": "e5a780ee",
   "metadata": {
    "execution": {
     "iopub.execute_input": "2023-07-11T02:48:42.962841Z",
     "iopub.status.busy": "2023-07-11T02:48:42.962361Z",
     "iopub.status.idle": "2023-07-11T02:48:43.316082Z",
     "shell.execute_reply": "2023-07-11T02:48:43.314774Z"
    },
    "papermill": {
     "duration": 0.376531,
     "end_time": "2023-07-11T02:48:43.318610",
     "exception": false,
     "start_time": "2023-07-11T02:48:42.942079",
     "status": "completed"
    },
    "tags": []
   },
   "outputs": [
    {
     "data": {
      "text/plain": [
       "[Text(0, 0, '986')]"
      ]
     },
     "execution_count": 112,
     "metadata": {},
     "output_type": "execute_result"
    },
    {
     "data": {
      "image/png": "[encoded data removed]",
      "text/plain": [
       "<Figure size 1200x300 with 1 Axes>"
      ]
     },
     "metadata": {},
     "output_type": "display_data"
    }
   ],
   "source": [
    "plt.figure(figsize=(12,3))\n",
    "plt.title(\"Value Counts of The Categories Variable\")\n",
    "sns.set_theme(style=\"darkgrid\")\n",
    "ax = sns.countplot(x=\"categories\", data=df, palette=\"Pastel2\", order=df.categories.value_counts().iloc[:5].index)\n",
    "ax.bar_label(ax.containers[0])"
   ]
  },
  {
   "cell_type": "markdown",
   "id": "a40a013d",
   "metadata": {
    "papermill": {
     "duration": 0.018843,
     "end_time": "2023-07-11T02:48:43.357074",
     "exception": false,
     "start_time": "2023-07-11T02:48:43.338231",
     "status": "completed"
    },
    "tags": []
   },
   "source": [
    "> The drama category is the show category that has been released the most on Amazon Prime."
   ]
  },
  {
   "cell_type": "markdown",
   "id": "ac717be8",
   "metadata": {
    "papermill": {
     "duration": 0.021053,
     "end_time": "2023-07-11T02:48:43.397497",
     "exception": false,
     "start_time": "2023-07-11T02:48:43.376444",
     "status": "completed"
    },
    "tags": []
   },
   "source": [
    "### Number of Show by Country"
   ]
  },
  {
   "cell_type": "code",
   "execution_count": 113,
   "id": "9b515dcd",
   "metadata": {
    "execution": {
     "iopub.execute_input": "2023-07-11T02:48:43.437433Z",
     "iopub.status.busy": "2023-07-11T02:48:43.437043Z",
     "iopub.status.idle": "2023-07-11T02:48:43.749795Z",
     "shell.execute_reply": "2023-07-11T02:48:43.748781Z"
    },
    "papermill": {
     "duration": 0.336226,
     "end_time": "2023-07-11T02:48:43.752853",
     "exception": false,
     "start_time": "2023-07-11T02:48:43.416627",
     "status": "completed"
    },
    "tags": []
   },
   "outputs": [
    {
     "data": {
      "text/plain": [
       "[Text(0, 0, '8996')]"
      ]
     },
     "execution_count": 113,
     "metadata": {},
     "output_type": "execute_result"
    },
    {
     "data": {
      "image/png": "[encoded data removed]",
      "text/plain": [
       "<Figure size 1200x200 with 1 Axes>"
      ]
     },
     "metadata": {},
     "output_type": "display_data"
    }
   ],
   "source": [
    "plt.figure(figsize=(12,2))\n",
    "plt.title(\"Value Counts of The Country Variable\")\n",
    "sns.set_theme(style=\"darkgrid\")\n",
    "ax = sns.countplot(x=\"country\", data=df, palette=\"Pastel2\", order=df.country.value_counts().iloc[:4].index)\n",
    "ax.bar_label(ax.containers[0])"
   ]
  },
  {
   "cell_type": "markdown",
   "id": "676a4400",
   "metadata": {
    "papermill": {
     "duration": 0.019236,
     "end_time": "2023-07-11T02:48:43.830755",
     "exception": false,
     "start_time": "2023-07-11T02:48:43.811519",
     "status": "completed"
    },
    "tags": []
   },
   "source": [
    "### Number of Show by Director"
   ]
  },
  {
   "cell_type": "code",
   "execution_count": 114,
   "id": "f5505996",
   "metadata": {
    "execution": {
     "iopub.execute_input": "2023-07-11T02:48:43.872600Z",
     "iopub.status.busy": "2023-07-11T02:48:43.871569Z",
     "iopub.status.idle": "2023-07-11T02:48:44.254749Z",
     "shell.execute_reply": "2023-07-11T02:48:44.253919Z"
    },
    "papermill": {
     "duration": 0.406725,
     "end_time": "2023-07-11T02:48:44.257156",
     "exception": false,
     "start_time": "2023-07-11T02:48:43.850431",
     "status": "completed"
    },
    "tags": []
   },
   "outputs": [
    {
     "data": {
      "text/plain": [
       "[Text(0, 0, '2083')]"
      ]
     },
     "execution_count": 114,
     "metadata": {},
     "output_type": "execute_result"
    },
    {
     "data": {
      "image/png": "[encoded data removed]",
      "text/plain": [
       "<Figure size 1200x300 with 1 Axes>"
      ]
     },
     "metadata": {},
     "output_type": "display_data"
    }
   ],
   "source": [
    "plt.figure(figsize=(12,3))\n",
    "plt.title(\"Value Counts of The Director Variable\")\n",
    "sns.set_theme(style=\"darkgrid\")\n",
    "ax = sns.countplot(x=\"director\", data=df, palette=\"Pastel2\", order=df.director.value_counts().iloc[:6].index)\n",
    "ax.bar_label(ax.containers[0])"
   ]
  },
  {
   "cell_type": "markdown",
   "id": "07120e2c",
   "metadata": {
    "papermill": {
     "duration": 0.019912,
     "end_time": "2023-07-11T02:48:44.297847",
     "exception": false,
     "start_time": "2023-07-11T02:48:44.277935",
     "status": "completed"
    },
    "tags": []
   },
   "source": [
    "> Overall, the data shows that a director named Mark Night is the director who produces the most shows released on Amazon Prime, namely 113 shows."
   ]
  },
  {
   "cell_type": "markdown",
   "id": "9868d7ce",
   "metadata": {
    "papermill": {
     "duration": 0.020865,
     "end_time": "2023-07-11T02:48:45.271657",
     "exception": false,
     "start_time": "2023-07-11T02:48:45.250792",
     "status": "completed"
    },
    "tags": []
   },
   "source": [
    "### Number of Show Year by Year"
   ]
  },
  {
   "cell_type": "code",
   "execution_count": 115,
   "id": "d601c0da",
   "metadata": {
    "execution": {
     "iopub.execute_input": "2023-07-11T02:48:45.315979Z",
     "iopub.status.busy": "2023-07-11T02:48:45.315188Z",
     "iopub.status.idle": "2023-07-11T02:48:45.996397Z",
     "shell.execute_reply": "2023-07-11T02:48:45.995328Z"
    },
    "papermill": {
     "duration": 0.706096,
     "end_time": "2023-07-11T02:48:45.998925",
     "exception": false,
     "start_time": "2023-07-11T02:48:45.292829",
     "status": "completed"
    },
    "tags": []
   },
   "outputs": [
    {
     "data": {
      "image/png": "[encoded data removed]",
      "text/plain": [
       "<Figure size 800x400 with 1 Axes>"
      ]
     },
     "metadata": {},
     "output_type": "display_data"
    }
   ],
   "source": [
    "sns.set_theme(style='darkgrid')\n",
    "ax = sns.displot(data = df ,x=\"release_year\", height=4,aspect=2)"
   ]
  },
  {
   "cell_type": "markdown",
   "id": "d6aef165",
   "metadata": {
    "papermill": {
     "duration": 0.021314,
     "end_time": "2023-07-11T02:48:46.041882",
     "exception": false,
     "start_time": "2023-07-11T02:48:46.020568",
     "status": "completed"
    },
    "tags": []
   },
   "source": [
    "> Shows that released the most on Amazon Prime were from year of 2021"
   ]
  }
 ],
 "metadata": {
  "kernelspec": {
   "display_name": "Python 3",
   "language": "python",
   "name": "python3"
  },
  "language_info": {
   "codemirror_mode": {
    "name": "ipython",
    "version": 3
   },
   "file_extension": ".py",
   "mimetype": "text/x-python",
   "name": "python",
   "nbconvert_exporter": "python",
   "pygments_lexer": "ipython3",
   "version": "3.12.1"
  },
  "papermill": {
   "default_parameters": {},
   "duration": 22.715209,
   "end_time": "2023-07-11T02:48:47.258990",
   "environment_variables": {},
   "exception": null,
   "input_path": "__notebook__.ipynb",
   "output_path": "__notebook__.ipynb",
   "parameters": {},
   "start_time": "2023-07-11T02:48:24.543781",
   "version": "2.4.0"
  }
 },
 "nbformat": 4,
 "nbformat_minor": 5
}
