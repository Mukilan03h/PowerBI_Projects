{
 "cells": [
  {
   "cell_type": "code",
   "execution_count": 2,
   "metadata": {},
   "outputs": [
    {
     "name": "stdout",
     "output_type": "stream",
     "text": [
      "   rank                    Youtuber  subscribers   video views  \\\n",
      "0     1                    t-series    245000000  228000000000   \n",
      "1     2              youtube movies    170000000             0   \n",
      "2     3                     mrbeast    166000000   28368841870   \n",
      "3     4  cocomelon - nursery rhymes    162000000  164000000000   \n",
      "4     5                   set india    159000000  148000000000   \n",
      "\n",
      "           category                       Title  uploads        Country  \\\n",
      "0             music                    t-series    20082          india   \n",
      "1  film & animation               youtubemovies        1  united states   \n",
      "2     entertainment                     mrbeast      741  united states   \n",
      "3         education  cocomelon - nursery rhymes      966  united states   \n",
      "4             shows                   set india   116536          india   \n",
      "\n",
      "  Abbreviation   channel_type  ...  highest_monthly_earnings  \\\n",
      "0           in          music  ...                9000000.00   \n",
      "1           us          games  ...                      0.05   \n",
      "2           us  entertainment  ...                5400000.00   \n",
      "3           us      education  ...                7900000.00   \n",
      "4           in  entertainment  ...                7300000.00   \n",
      "\n",
      "   lowest_yearly_earnings  highest_yearly_earnings  \\\n",
      "0              6800000.00             1.084000e+08   \n",
      "1                    0.04             5.800000e-01   \n",
      "2              4000000.00             6.470000e+07   \n",
      "3              5900000.00             9.480000e+07   \n",
      "4              5500000.00             8.750000e+07   \n",
      "\n",
      "   subscribers_for_last_30_days  Gross tertiary education enrollment (%)  \\\n",
      "0                       2000000                                     28.1   \n",
      "1                             0                                     88.2   \n",
      "2                       8000000                                     88.2   \n",
      "3                       1000000                                     88.2   \n",
      "4                       1000000                                     28.1   \n",
      "\n",
      "   Population  Unemployment rate  Urban_population   Latitude  Longitude  \n",
      "0  1366417754               5.36         471031528  20.593684  78.962880  \n",
      "1   328239523              14.70         270663028  37.090240 -95.712891  \n",
      "2   328239523              14.70         270663028  37.090240 -95.712891  \n",
      "3   328239523              14.70         270663028  37.090240 -95.712891  \n",
      "4  1366417754               5.36         471031528  20.593684  78.962880  \n",
      "\n",
      "[5 rows x 25 columns]\n"
     ]
    },
    {
     "ename": "TypeError",
     "evalue": "'include' is an invalid keyword argument for print()",
     "output_type": "error",
     "traceback": [
      "\u001b[1;31m---------------------------------------------------------------------------\u001b[0m",
      "\u001b[1;31mTypeError\u001b[0m                                 Traceback (most recent call last)",
      "Cell \u001b[1;32mIn[2], line 14\u001b[0m\n\u001b[0;32m     11\u001b[0m \u001b[38;5;28mprint\u001b[39m(df\u001b[38;5;241m.\u001b[39mhead())\n\u001b[0;32m     13\u001b[0m \u001b[38;5;66;03m# Summary statistics\u001b[39;00m\n\u001b[1;32m---> 14\u001b[0m \u001b[38;5;28;43mprint\u001b[39;49m\u001b[43m(\u001b[49m\u001b[43mdf\u001b[49m\u001b[38;5;241;43m.\u001b[39;49m\u001b[43mdescribe\u001b[49m\u001b[43m(\u001b[49m\u001b[43m)\u001b[49m\u001b[43m,\u001b[49m\u001b[43minclude\u001b[49m\u001b[38;5;241;43m=\u001b[39;49m\u001b[38;5;28;43mall\u001b[39;49m\u001b[43m)\u001b[49m\n",
      "\u001b[1;31mTypeError\u001b[0m: 'include' is an invalid keyword argument for print()"
     ]
    }
   ],
   "source": [
    "import pandas as pd\n",
    "import matplotlib.pyplot as plt\n",
    "import seaborn as sns\n",
    "\n",
    "# Load the Excel file\n",
    "file_path = 'D:\\\\CubeAI Internship\\\\Task-7 Youtube Analysis\\\\cleaned_data.xlsx'\n",
    "df = pd.read_excel(file_path)\n",
    "\n",
    "# Display the first few rows of the DataFrame\n",
    "print(df.head())\n",
    "\n",
    "# Summary statistics\n",
    "print(df.describe(include='all'))\n",
    "\n",
    "# Additional steps if needed:\n",
    "# Displaying information about the DataFrame\n",
    "print(df.info())\n",
    "\n",
    "# Checking for any missing values\n",
    "print(df.isnull().sum())\n"
   ]
  }
 ],
 "metadata": {
  "kernelspec": {
   "display_name": "Python 3",
   "language": "python",
   "name": "python3"
  },
  "language_info": {
   "codemirror_mode": {
    "name": "ipython",
    "version": 3
   },
   "file_extension": ".py",
   "mimetype": "text/x-python",
   "name": "python",
   "nbconvert_exporter": "python",
   "pygments_lexer": "ipython3",
   "version": "3.12.1"
  }
 },
 "nbformat": 4,
 "nbformat_minor": 2
}
